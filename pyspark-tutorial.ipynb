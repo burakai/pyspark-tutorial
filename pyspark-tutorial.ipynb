{
 "cells": [
  {
   "attachments": {},
   "cell_type": "markdown",
   "metadata": {},
   "source": [
    "# Let's mention about good old Pandas (v1)"
   ]
  },
  {
   "cell_type": "code",
   "execution_count": 2,
   "metadata": {},
   "outputs": [
    {
     "data": {
      "text/html": [
       "<div>\n",
       "<style scoped>\n",
       "    .dataframe tbody tr th:only-of-type {\n",
       "        vertical-align: middle;\n",
       "    }\n",
       "\n",
       "    .dataframe tbody tr th {\n",
       "        vertical-align: top;\n",
       "    }\n",
       "\n",
       "    .dataframe thead th {\n",
       "        text-align: right;\n",
       "    }\n",
       "</style>\n",
       "<table border=\"1\" class=\"dataframe\">\n",
       "  <thead>\n",
       "    <tr style=\"text-align: right;\">\n",
       "      <th></th>\n",
       "      <th>Unnamed: 0</th>\n",
       "      <th>affairs</th>\n",
       "      <th>gender</th>\n",
       "      <th>age</th>\n",
       "      <th>yearsmarried</th>\n",
       "      <th>children</th>\n",
       "      <th>religiousness</th>\n",
       "      <th>education</th>\n",
       "      <th>occupation</th>\n",
       "      <th>rating</th>\n",
       "    </tr>\n",
       "  </thead>\n",
       "  <tbody>\n",
       "    <tr>\n",
       "      <th>0</th>\n",
       "      <td>4</td>\n",
       "      <td>0</td>\n",
       "      <td>male</td>\n",
       "      <td>37.0</td>\n",
       "      <td>10.00</td>\n",
       "      <td>no</td>\n",
       "      <td>3</td>\n",
       "      <td>18</td>\n",
       "      <td>7</td>\n",
       "      <td>4</td>\n",
       "    </tr>\n",
       "    <tr>\n",
       "      <th>1</th>\n",
       "      <td>5</td>\n",
       "      <td>0</td>\n",
       "      <td>female</td>\n",
       "      <td>27.0</td>\n",
       "      <td>4.00</td>\n",
       "      <td>no</td>\n",
       "      <td>4</td>\n",
       "      <td>14</td>\n",
       "      <td>6</td>\n",
       "      <td>4</td>\n",
       "    </tr>\n",
       "    <tr>\n",
       "      <th>2</th>\n",
       "      <td>11</td>\n",
       "      <td>0</td>\n",
       "      <td>female</td>\n",
       "      <td>32.0</td>\n",
       "      <td>15.00</td>\n",
       "      <td>yes</td>\n",
       "      <td>1</td>\n",
       "      <td>12</td>\n",
       "      <td>1</td>\n",
       "      <td>4</td>\n",
       "    </tr>\n",
       "    <tr>\n",
       "      <th>3</th>\n",
       "      <td>16</td>\n",
       "      <td>0</td>\n",
       "      <td>male</td>\n",
       "      <td>57.0</td>\n",
       "      <td>15.00</td>\n",
       "      <td>yes</td>\n",
       "      <td>5</td>\n",
       "      <td>18</td>\n",
       "      <td>6</td>\n",
       "      <td>5</td>\n",
       "    </tr>\n",
       "    <tr>\n",
       "      <th>4</th>\n",
       "      <td>23</td>\n",
       "      <td>0</td>\n",
       "      <td>male</td>\n",
       "      <td>22.0</td>\n",
       "      <td>0.75</td>\n",
       "      <td>no</td>\n",
       "      <td>2</td>\n",
       "      <td>17</td>\n",
       "      <td>6</td>\n",
       "      <td>3</td>\n",
       "    </tr>\n",
       "    <tr>\n",
       "      <th>...</th>\n",
       "      <td>...</td>\n",
       "      <td>...</td>\n",
       "      <td>...</td>\n",
       "      <td>...</td>\n",
       "      <td>...</td>\n",
       "      <td>...</td>\n",
       "      <td>...</td>\n",
       "      <td>...</td>\n",
       "      <td>...</td>\n",
       "      <td>...</td>\n",
       "    </tr>\n",
       "    <tr>\n",
       "      <th>596</th>\n",
       "      <td>1938</td>\n",
       "      <td>1</td>\n",
       "      <td>male</td>\n",
       "      <td>22.0</td>\n",
       "      <td>1.50</td>\n",
       "      <td>yes</td>\n",
       "      <td>1</td>\n",
       "      <td>12</td>\n",
       "      <td>2</td>\n",
       "      <td>5</td>\n",
       "    </tr>\n",
       "    <tr>\n",
       "      <th>597</th>\n",
       "      <td>1941</td>\n",
       "      <td>7</td>\n",
       "      <td>female</td>\n",
       "      <td>32.0</td>\n",
       "      <td>10.00</td>\n",
       "      <td>yes</td>\n",
       "      <td>2</td>\n",
       "      <td>18</td>\n",
       "      <td>5</td>\n",
       "      <td>4</td>\n",
       "    </tr>\n",
       "    <tr>\n",
       "      <th>598</th>\n",
       "      <td>1954</td>\n",
       "      <td>2</td>\n",
       "      <td>male</td>\n",
       "      <td>32.0</td>\n",
       "      <td>10.00</td>\n",
       "      <td>yes</td>\n",
       "      <td>2</td>\n",
       "      <td>17</td>\n",
       "      <td>6</td>\n",
       "      <td>5</td>\n",
       "    </tr>\n",
       "    <tr>\n",
       "      <th>599</th>\n",
       "      <td>1959</td>\n",
       "      <td>2</td>\n",
       "      <td>male</td>\n",
       "      <td>22.0</td>\n",
       "      <td>7.00</td>\n",
       "      <td>yes</td>\n",
       "      <td>3</td>\n",
       "      <td>18</td>\n",
       "      <td>6</td>\n",
       "      <td>2</td>\n",
       "    </tr>\n",
       "    <tr>\n",
       "      <th>600</th>\n",
       "      <td>9010</td>\n",
       "      <td>1</td>\n",
       "      <td>female</td>\n",
       "      <td>32.0</td>\n",
       "      <td>15.00</td>\n",
       "      <td>yes</td>\n",
       "      <td>3</td>\n",
       "      <td>14</td>\n",
       "      <td>1</td>\n",
       "      <td>5</td>\n",
       "    </tr>\n",
       "  </tbody>\n",
       "</table>\n",
       "<p>601 rows × 10 columns</p>\n",
       "</div>"
      ],
      "text/plain": [
       "     Unnamed: 0  affairs  gender   age  yearsmarried children  religiousness  \\\n",
       "0             4        0    male  37.0         10.00       no              3   \n",
       "1             5        0  female  27.0          4.00       no              4   \n",
       "2            11        0  female  32.0         15.00      yes              1   \n",
       "3            16        0    male  57.0         15.00      yes              5   \n",
       "4            23        0    male  22.0          0.75       no              2   \n",
       "..          ...      ...     ...   ...           ...      ...            ...   \n",
       "596        1938        1    male  22.0          1.50      yes              1   \n",
       "597        1941        7  female  32.0         10.00      yes              2   \n",
       "598        1954        2    male  32.0         10.00      yes              2   \n",
       "599        1959        2    male  22.0          7.00      yes              3   \n",
       "600        9010        1  female  32.0         15.00      yes              3   \n",
       "\n",
       "     education  occupation  rating  \n",
       "0           18           7       4  \n",
       "1           14           6       4  \n",
       "2           12           1       4  \n",
       "3           18           6       5  \n",
       "4           17           6       3  \n",
       "..         ...         ...     ...  \n",
       "596         12           2       5  \n",
       "597         18           5       4  \n",
       "598         17           6       5  \n",
       "599         18           6       2  \n",
       "600         14           1       5  \n",
       "\n",
       "[601 rows x 10 columns]"
      ]
     },
     "execution_count": 2,
     "metadata": {},
     "output_type": "execute_result"
    }
   ],
   "source": [
    "import pandas as pd\n",
    "pd.read_csv(\"Affairs.csv\")"
   ]
  },
  {
   "cell_type": "code",
   "execution_count": 12,
   "metadata": {},
   "outputs": [
    {
     "data": {
      "text/plain": [
       "pandas.core.frame.DataFrame"
      ]
     },
     "execution_count": 12,
     "metadata": {},
     "output_type": "execute_result"
    }
   ],
   "source": [
    "type(pd.read_csv(\"Affairs.csv\"))"
   ]
  },
  {
   "attachments": {},
   "cell_type": "markdown",
   "metadata": {},
   "source": [
    "# Let's dive into PySpark!"
   ]
  },
  {
   "cell_type": "code",
   "execution_count": 3,
   "metadata": {},
   "outputs": [],
   "source": [
    "from pyspark.sql import SparkSession"
   ]
  },
  {
   "cell_type": "code",
   "execution_count": 27,
   "metadata": {},
   "outputs": [],
   "source": [
    "spark = SparkSession.builder.appName(\"Practise\").getOrCreate()"
   ]
  },
  {
   "cell_type": "code",
   "execution_count": 5,
   "metadata": {},
   "outputs": [
    {
     "data": {
      "text/html": [
       "\n",
       "            <div>\n",
       "                <p><b>SparkSession - in-memory</b></p>\n",
       "                \n",
       "        <div>\n",
       "            <p><b>SparkContext</b></p>\n",
       "\n",
       "            <p><a href=\"http://172.25.156.96:4040\">Spark UI</a></p>\n",
       "\n",
       "            <dl>\n",
       "              <dt>Version</dt>\n",
       "                <dd><code>v3.2.1</code></dd>\n",
       "              <dt>Master</dt>\n",
       "                <dd><code>local[*]</code></dd>\n",
       "              <dt>AppName</dt>\n",
       "                <dd><code>Practise</code></dd>\n",
       "            </dl>\n",
       "        </div>\n",
       "        \n",
       "            </div>\n",
       "        "
      ],
      "text/plain": [
       "<pyspark.sql.session.SparkSession at 0x7f7dd5a34990>"
      ]
     },
     "execution_count": 5,
     "metadata": {},
     "output_type": "execute_result"
    }
   ],
   "source": [
    "spark"
   ]
  },
  {
   "cell_type": "code",
   "execution_count": 6,
   "metadata": {},
   "outputs": [],
   "source": [
    "df_pyspark = spark.read.csv(\"Affairs.csv\")"
   ]
  },
  {
   "cell_type": "code",
   "execution_count": 7,
   "metadata": {},
   "outputs": [
    {
     "data": {
      "text/plain": [
       "DataFrame[_c0: string, _c1: string, _c2: string, _c3: string, _c4: string, _c5: string, _c6: string, _c7: string, _c8: string, _c9: string]"
      ]
     },
     "execution_count": 7,
     "metadata": {},
     "output_type": "execute_result"
    }
   ],
   "source": [
    "df_pyspark"
   ]
  },
  {
   "cell_type": "code",
   "execution_count": 9,
   "metadata": {},
   "outputs": [
    {
     "name": "stdout",
     "output_type": "stream",
     "text": [
      "+----+-------+------+---+------------+--------+-------------+---------+----------+------+\n",
      "| _c0|    _c1|   _c2|_c3|         _c4|     _c5|          _c6|      _c7|       _c8|   _c9|\n",
      "+----+-------+------+---+------------+--------+-------------+---------+----------+------+\n",
      "|null|affairs|gender|age|yearsmarried|children|religiousness|education|occupation|rating|\n",
      "|   4|      0|  male| 37|          10|      no|            3|       18|         7|     4|\n",
      "|   5|      0|female| 27|           4|      no|            4|       14|         6|     4|\n",
      "+----+-------+------+---+------------+--------+-------------+---------+----------+------+\n",
      "only showing top 3 rows\n",
      "\n"
     ]
    }
   ],
   "source": [
    "df_pyspark.show(3)"
   ]
  },
  {
   "cell_type": "code",
   "execution_count": 10,
   "metadata": {},
   "outputs": [],
   "source": [
    "df_pyspark = spark.read.option(\"header\", \"true\").csv(\"Affairs.csv\")"
   ]
  },
  {
   "cell_type": "code",
   "execution_count": 11,
   "metadata": {},
   "outputs": [
    {
     "name": "stdout",
     "output_type": "stream",
     "text": [
      "+---+-------+------+---+------------+--------+-------------+---------+----------+------+\n",
      "|_c0|affairs|gender|age|yearsmarried|children|religiousness|education|occupation|rating|\n",
      "+---+-------+------+---+------------+--------+-------------+---------+----------+------+\n",
      "|  4|      0|  male| 37|          10|      no|            3|       18|         7|     4|\n",
      "|  5|      0|female| 27|           4|      no|            4|       14|         6|     4|\n",
      "| 11|      0|female| 32|          15|     yes|            1|       12|         1|     4|\n",
      "+---+-------+------+---+------------+--------+-------------+---------+----------+------+\n",
      "only showing top 3 rows\n",
      "\n"
     ]
    },
    {
     "name": "stderr",
     "output_type": "stream",
     "text": [
      "23/04/16 13:37:25 WARN CSVHeaderChecker: CSV header does not conform to the schema.\n",
      " Header: , affairs, gender, age, yearsmarried, children, religiousness, education, occupation, rating\n",
      " Schema: _c0, affairs, gender, age, yearsmarried, children, religiousness, education, occupation, rating\n",
      "Expected: _c0 but found: \n",
      "CSV file: file:///home/burakk/eq_data/Affairs.csv\n"
     ]
    }
   ],
   "source": [
    "df_pyspark.show(3)"
   ]
  },
  {
   "cell_type": "code",
   "execution_count": 13,
   "metadata": {},
   "outputs": [
    {
     "data": {
      "text/plain": [
       "pyspark.sql.dataframe.DataFrame"
      ]
     },
     "execution_count": 13,
     "metadata": {},
     "output_type": "execute_result"
    }
   ],
   "source": [
    "type(df_pyspark)"
   ]
  },
  {
   "attachments": {},
   "cell_type": "markdown",
   "metadata": {},
   "source": [
    "# See the DataFrame"
   ]
  },
  {
   "cell_type": "code",
   "execution_count": 14,
   "metadata": {},
   "outputs": [
    {
     "name": "stdout",
     "output_type": "stream",
     "text": [
      "+---+-------+------+---+------------+--------+-------------+---------+----------+------+\n",
      "|_c0|affairs|gender|age|yearsmarried|children|religiousness|education|occupation|rating|\n",
      "+---+-------+------+---+------------+--------+-------------+---------+----------+------+\n",
      "|  4|      0|  male| 37|          10|      no|            3|       18|         7|     4|\n",
      "|  5|      0|female| 27|           4|      no|            4|       14|         6|     4|\n",
      "| 11|      0|female| 32|          15|     yes|            1|       12|         1|     4|\n",
      "+---+-------+------+---+------------+--------+-------------+---------+----------+------+\n",
      "only showing top 3 rows\n",
      "\n"
     ]
    },
    {
     "name": "stderr",
     "output_type": "stream",
     "text": [
      "23/04/16 13:40:39 WARN CSVHeaderChecker: CSV header does not conform to the schema.\n",
      " Header: , affairs, gender, age, yearsmarried, children, religiousness, education, occupation, rating\n",
      " Schema: _c0, affairs, gender, age, yearsmarried, children, religiousness, education, occupation, rating\n",
      "Expected: _c0 but found: \n",
      "CSV file: file:///home/burakk/eq_data/Affairs.csv\n"
     ]
    }
   ],
   "source": [
    "df_pyspark.show(3)"
   ]
  },
  {
   "cell_type": "code",
   "execution_count": 16,
   "metadata": {},
   "outputs": [
    {
     "name": "stderr",
     "output_type": "stream",
     "text": [
      "23/04/16 13:41:01 WARN CSVHeaderChecker: CSV header does not conform to the schema.\n",
      " Header: , affairs, gender, age, yearsmarried, children, religiousness, education, occupation, rating\n",
      " Schema: _c0, affairs, gender, age, yearsmarried, children, religiousness, education, occupation, rating\n",
      "Expected: _c0 but found: \n",
      "CSV file: file:///home/burakk/eq_data/Affairs.csv\n"
     ]
    },
    {
     "data": {
      "text/plain": [
       "[Row(_c0='4', affairs='0', gender='male', age='37', yearsmarried='10', children='no', religiousness='3', education='18', occupation='7', rating='4'),\n",
       " Row(_c0='5', affairs='0', gender='female', age='27', yearsmarried='4', children='no', religiousness='4', education='14', occupation='6', rating='4'),\n",
       " Row(_c0='11', affairs='0', gender='female', age='32', yearsmarried='15', children='yes', religiousness='1', education='12', occupation='1', rating='4')]"
      ]
     },
     "execution_count": 16,
     "metadata": {},
     "output_type": "execute_result"
    }
   ],
   "source": [
    "df_pyspark.head(3)"
   ]
  },
  {
   "cell_type": "code",
   "execution_count": 17,
   "metadata": {},
   "outputs": [
    {
     "name": "stdout",
     "output_type": "stream",
     "text": [
      "root\n",
      " |-- _c0: string (nullable = true)\n",
      " |-- affairs: string (nullable = true)\n",
      " |-- gender: string (nullable = true)\n",
      " |-- age: string (nullable = true)\n",
      " |-- yearsmarried: string (nullable = true)\n",
      " |-- children: string (nullable = true)\n",
      " |-- religiousness: string (nullable = true)\n",
      " |-- education: string (nullable = true)\n",
      " |-- occupation: string (nullable = true)\n",
      " |-- rating: string (nullable = true)\n",
      "\n"
     ]
    }
   ],
   "source": [
    "df_pyspark.printSchema()"
   ]
  },
  {
   "cell_type": "markdown",
   "metadata": {},
   "source": [
    "# DataFrames in detail"
   ]
  },
  {
   "cell_type": "code",
   "execution_count": 37,
   "metadata": {},
   "outputs": [],
   "source": [
    "spark = SparkSession.builder.appName(\"Dataframe\").getOrCreate()"
   ]
  },
  {
   "cell_type": "code",
   "execution_count": 71,
   "metadata": {},
   "outputs": [],
   "source": [
    "df_pyspark = spark.read.option(\"header\", \"true\").csv(\"Affairs.csv\", inferSchema=True)"
   ]
  },
  {
   "cell_type": "code",
   "execution_count": 42,
   "metadata": {},
   "outputs": [
    {
     "name": "stdout",
     "output_type": "stream",
     "text": [
      "root\n",
      " |-- _c0: integer (nullable = true)\n",
      " |-- affairs: integer (nullable = true)\n",
      " |-- gender: string (nullable = true)\n",
      " |-- age: double (nullable = true)\n",
      " |-- yearsmarried: double (nullable = true)\n",
      " |-- children: string (nullable = true)\n",
      " |-- religiousness: integer (nullable = true)\n",
      " |-- education: integer (nullable = true)\n",
      " |-- occupation: integer (nullable = true)\n",
      " |-- rating: integer (nullable = true)\n",
      "\n"
     ]
    }
   ],
   "source": [
    "df_pyspark.printSchema()"
   ]
  },
  {
   "cell_type": "code",
   "execution_count": 43,
   "metadata": {},
   "outputs": [],
   "source": [
    "df_pyspark = spark.read.csv(\"Affairs.csv\", header=True, inferSchema=True)"
   ]
  },
  {
   "cell_type": "code",
   "execution_count": 45,
   "metadata": {},
   "outputs": [
    {
     "name": "stdout",
     "output_type": "stream",
     "text": [
      "root\n",
      " |-- _c0: integer (nullable = true)\n",
      " |-- affairs: integer (nullable = true)\n",
      " |-- gender: string (nullable = true)\n",
      " |-- age: double (nullable = true)\n",
      " |-- yearsmarried: double (nullable = true)\n",
      " |-- children: string (nullable = true)\n",
      " |-- religiousness: integer (nullable = true)\n",
      " |-- education: integer (nullable = true)\n",
      " |-- occupation: integer (nullable = true)\n",
      " |-- rating: integer (nullable = true)\n",
      "\n"
     ]
    }
   ],
   "source": [
    "df_pyspark.printSchema()"
   ]
  },
  {
   "cell_type": "code",
   "execution_count": 46,
   "metadata": {},
   "outputs": [
    {
     "data": {
      "text/plain": [
       "pyspark.sql.dataframe.DataFrame"
      ]
     },
     "execution_count": 46,
     "metadata": {},
     "output_type": "execute_result"
    }
   ],
   "source": [
    "type(df_pyspark)"
   ]
  },
  {
   "cell_type": "code",
   "execution_count": 47,
   "metadata": {},
   "outputs": [
    {
     "data": {
      "text/plain": [
       "['_c0',\n",
       " 'affairs',\n",
       " 'gender',\n",
       " 'age',\n",
       " 'yearsmarried',\n",
       " 'children',\n",
       " 'religiousness',\n",
       " 'education',\n",
       " 'occupation',\n",
       " 'rating']"
      ]
     },
     "execution_count": 47,
     "metadata": {},
     "output_type": "execute_result"
    }
   ],
   "source": [
    "df_pyspark.columns"
   ]
  },
  {
   "cell_type": "code",
   "execution_count": 48,
   "metadata": {},
   "outputs": [
    {
     "name": "stderr",
     "output_type": "stream",
     "text": [
      "23/04/16 14:30:40 WARN CSVHeaderChecker: CSV header does not conform to the schema.\n",
      " Header: , affairs, gender, age, yearsmarried, children, religiousness, education, occupation, rating\n",
      " Schema: _c0, affairs, gender, age, yearsmarried, children, religiousness, education, occupation, rating\n",
      "Expected: _c0 but found: \n",
      "CSV file: file:///home/burakk/eq_data/Affairs.csv\n"
     ]
    },
    {
     "data": {
      "text/plain": [
       "[Row(_c0=4, affairs=0, gender='male', age=37.0, yearsmarried=10.0, children='no', religiousness=3, education=18, occupation=7, rating=4),\n",
       " Row(_c0=5, affairs=0, gender='female', age=27.0, yearsmarried=4.0, children='no', religiousness=4, education=14, occupation=6, rating=4),\n",
       " Row(_c0=11, affairs=0, gender='female', age=32.0, yearsmarried=15.0, children='yes', religiousness=1, education=12, occupation=1, rating=4)]"
      ]
     },
     "execution_count": 48,
     "metadata": {},
     "output_type": "execute_result"
    }
   ],
   "source": [
    "df_pyspark.head(3)"
   ]
  },
  {
   "cell_type": "code",
   "execution_count": 49,
   "metadata": {},
   "outputs": [
    {
     "name": "stdout",
     "output_type": "stream",
     "text": [
      "+---+-------+------+----+------------+--------+-------------+---------+----------+------+\n",
      "|_c0|affairs|gender| age|yearsmarried|children|religiousness|education|occupation|rating|\n",
      "+---+-------+------+----+------------+--------+-------------+---------+----------+------+\n",
      "|  4|      0|  male|37.0|        10.0|      no|            3|       18|         7|     4|\n",
      "|  5|      0|female|27.0|         4.0|      no|            4|       14|         6|     4|\n",
      "| 11|      0|female|32.0|        15.0|     yes|            1|       12|         1|     4|\n",
      "+---+-------+------+----+------------+--------+-------------+---------+----------+------+\n",
      "only showing top 3 rows\n",
      "\n"
     ]
    },
    {
     "name": "stderr",
     "output_type": "stream",
     "text": [
      "23/04/16 14:31:19 WARN CSVHeaderChecker: CSV header does not conform to the schema.\n",
      " Header: , affairs, gender, age, yearsmarried, children, religiousness, education, occupation, rating\n",
      " Schema: _c0, affairs, gender, age, yearsmarried, children, religiousness, education, occupation, rating\n",
      "Expected: _c0 but found: \n",
      "CSV file: file:///home/burakk/eq_data/Affairs.csv\n"
     ]
    }
   ],
   "source": [
    "df_pyspark.show(3)"
   ]
  },
  {
   "cell_type": "code",
   "execution_count": 54,
   "metadata": {},
   "outputs": [
    {
     "name": "stdout",
     "output_type": "stream",
     "text": [
      "+------------+\n",
      "|yearsmarried|\n",
      "+------------+\n",
      "|        10.0|\n",
      "|         4.0|\n",
      "|        15.0|\n",
      "+------------+\n",
      "only showing top 3 rows\n",
      "\n"
     ]
    }
   ],
   "source": [
    "df_pyspark.select(\"yearsmarried\").show(3)"
   ]
  },
  {
   "cell_type": "code",
   "execution_count": 55,
   "metadata": {},
   "outputs": [
    {
     "name": "stdout",
     "output_type": "stream",
     "text": [
      "+------------+--------+\n",
      "|yearsmarried|children|\n",
      "+------------+--------+\n",
      "|        10.0|      no|\n",
      "|         4.0|      no|\n",
      "|        15.0|     yes|\n",
      "+------------+--------+\n",
      "only showing top 3 rows\n",
      "\n"
     ]
    }
   ],
   "source": [
    "df_pyspark.select(\"yearsmarried\", \"children\").show(3)"
   ]
  },
  {
   "cell_type": "code",
   "execution_count": 56,
   "metadata": {},
   "outputs": [
    {
     "name": "stdout",
     "output_type": "stream",
     "text": [
      "+------------+--------+\n",
      "|yearsmarried|children|\n",
      "+------------+--------+\n",
      "|        10.0|      no|\n",
      "|         4.0|      no|\n",
      "|        15.0|     yes|\n",
      "+------------+--------+\n",
      "only showing top 3 rows\n",
      "\n"
     ]
    }
   ],
   "source": [
    "df_pyspark.select([\"yearsmarried\", \"children\"]).show(3)"
   ]
  },
  {
   "cell_type": "code",
   "execution_count": 59,
   "metadata": {},
   "outputs": [
    {
     "data": {
      "text/plain": [
       "Column<'yearsmarried'>"
      ]
     },
     "execution_count": 59,
     "metadata": {},
     "output_type": "execute_result"
    }
   ],
   "source": [
    "df_pyspark[\"yearsmarried\"]"
   ]
  },
  {
   "cell_type": "code",
   "execution_count": 60,
   "metadata": {},
   "outputs": [
    {
     "data": {
      "text/plain": [
       "[('_c0', 'int'),\n",
       " ('affairs', 'int'),\n",
       " ('gender', 'string'),\n",
       " ('age', 'double'),\n",
       " ('yearsmarried', 'double'),\n",
       " ('children', 'string'),\n",
       " ('religiousness', 'int'),\n",
       " ('education', 'int'),\n",
       " ('occupation', 'int'),\n",
       " ('rating', 'int')]"
      ]
     },
     "execution_count": 60,
     "metadata": {},
     "output_type": "execute_result"
    }
   ],
   "source": [
    "df_pyspark.dtypes"
   ]
  },
  {
   "cell_type": "code",
   "execution_count": 62,
   "metadata": {},
   "outputs": [
    {
     "name": "stderr",
     "output_type": "stream",
     "text": [
      "23/04/16 14:37:22 WARN CSVHeaderChecker: CSV header does not conform to the schema.\n",
      " Header: , affairs, gender, age, yearsmarried, children, religiousness, education, occupation, rating\n",
      " Schema: _c0, affairs, gender, age, yearsmarried, children, religiousness, education, occupation, rating\n",
      "Expected: _c0 but found: \n",
      "CSV file: file:///home/burakk/eq_data/Affairs.csv\n"
     ]
    },
    {
     "name": "stdout",
     "output_type": "stream",
     "text": [
      "+-------+------------------+------------------+------+-----------------+-----------------+--------+------------------+------------------+-----------------+------------------+\n",
      "|summary|               _c0|           affairs|gender|              age|     yearsmarried|children|     religiousness|         education|       occupation|            rating|\n",
      "+-------+------------------+------------------+------+-----------------+-----------------+--------+------------------+------------------+-----------------+------------------+\n",
      "|  count|               601|               601|   601|              601|              601|     601|               601|               601|              601|               601|\n",
      "|   mean|1059.7221297836938|1.4559068219633944|  null|32.48752079866888| 8.17769550748752|    null|3.1164725457570714| 16.16638935108153|4.194675540765391|3.9317803660565724|\n",
      "| stddev|  914.904611235213|3.2987577284946816|  null| 9.28876170487667|5.571303149963791|    null|1.1675094016730692|2.4025545657666982|1.819442662708579|1.1031794920503797|\n",
      "|    min|                 4|                 0|female|             17.5|            0.125|      no|                 1|                 9|                1|                 1|\n",
      "|    max|              9029|                12|  male|             57.0|             15.0|     yes|                 5|                20|                7|                 5|\n",
      "+-------+------------------+------------------+------+-----------------+-----------------+--------+------------------+------------------+-----------------+------------------+\n",
      "\n"
     ]
    }
   ],
   "source": [
    "df_pyspark.describe().show()"
   ]
  },
  {
   "attachments": {},
   "cell_type": "markdown",
   "metadata": {},
   "source": [
    "# Adding columns in a DataFrame"
   ]
  },
  {
   "cell_type": "code",
   "execution_count": 74,
   "metadata": {},
   "outputs": [],
   "source": [
    "df_pyspark = df_pyspark.withColumn(\"afterayear\", df_pyspark[\"yearsmarried\"]+1)"
   ]
  },
  {
   "cell_type": "code",
   "execution_count": 75,
   "metadata": {},
   "outputs": [
    {
     "name": "stdout",
     "output_type": "stream",
     "text": [
      "+---+-------+------+----+------------+--------+-------------+---------+----------+------+----------+\n",
      "|_c0|affairs|gender| age|yearsmarried|children|religiousness|education|occupation|rating|afterayear|\n",
      "+---+-------+------+----+------------+--------+-------------+---------+----------+------+----------+\n",
      "|  4|      0|  male|37.0|        10.0|      no|            3|       18|         7|     4|      11.0|\n",
      "|  5|      0|female|27.0|         4.0|      no|            4|       14|         6|     4|       5.0|\n",
      "| 11|      0|female|32.0|        15.0|     yes|            1|       12|         1|     4|      16.0|\n",
      "+---+-------+------+----+------------+--------+-------------+---------+----------+------+----------+\n",
      "only showing top 3 rows\n",
      "\n"
     ]
    },
    {
     "name": "stderr",
     "output_type": "stream",
     "text": [
      "23/04/16 14:45:34 WARN CSVHeaderChecker: CSV header does not conform to the schema.\n",
      " Header: , affairs, gender, age, yearsmarried, children, religiousness, education, occupation, rating\n",
      " Schema: _c0, affairs, gender, age, yearsmarried, children, religiousness, education, occupation, rating\n",
      "Expected: _c0 but found: \n",
      "CSV file: file:///home/burakk/eq_data/Affairs.csv\n"
     ]
    }
   ],
   "source": [
    "df_pyspark.show(3)"
   ]
  },
  {
   "attachments": {},
   "cell_type": "markdown",
   "metadata": {},
   "source": [
    "# Dropping columns in a DataFrame"
   ]
  },
  {
   "cell_type": "code",
   "execution_count": 76,
   "metadata": {},
   "outputs": [],
   "source": [
    "df_pyspark = df_pyspark.drop(\"rating\")"
   ]
  },
  {
   "cell_type": "code",
   "execution_count": 78,
   "metadata": {},
   "outputs": [
    {
     "name": "stdout",
     "output_type": "stream",
     "text": [
      "+---+-------+------+----+------------+--------+-------------+---------+----------+----------+\n",
      "|_c0|affairs|gender| age|yearsmarried|children|religiousness|education|occupation|afterayear|\n",
      "+---+-------+------+----+------------+--------+-------------+---------+----------+----------+\n",
      "|  4|      0|  male|37.0|        10.0|      no|            3|       18|         7|      11.0|\n",
      "|  5|      0|female|27.0|         4.0|      no|            4|       14|         6|       5.0|\n",
      "| 11|      0|female|32.0|        15.0|     yes|            1|       12|         1|      16.0|\n",
      "+---+-------+------+----+------------+--------+-------------+---------+----------+----------+\n",
      "only showing top 3 rows\n",
      "\n"
     ]
    },
    {
     "name": "stderr",
     "output_type": "stream",
     "text": [
      "23/04/16 14:47:19 WARN CSVHeaderChecker: CSV header does not conform to the schema.\n",
      " Header: , affairs, gender, age, yearsmarried, children, religiousness, education, occupation\n",
      " Schema: _c0, affairs, gender, age, yearsmarried, children, religiousness, education, occupation\n",
      "Expected: _c0 but found: \n",
      "CSV file: file:///home/burakk/eq_data/Affairs.csv\n"
     ]
    }
   ],
   "source": [
    "df_pyspark.show(3)"
   ]
  },
  {
   "attachments": {},
   "cell_type": "markdown",
   "metadata": {},
   "source": [
    "# Renaming columns in a DataFrame"
   ]
  },
  {
   "cell_type": "code",
   "execution_count": 6,
   "metadata": {},
   "outputs": [
    {
     "name": "stderr",
     "output_type": "stream",
     "text": [
      "23/04/16 21:42:00 WARN Utils: Your hostname, AYGIR resolves to a loopback address: 127.0.1.1; using 192.168.213.86 instead (on interface eth0)\n",
      "23/04/16 21:42:00 WARN Utils: Set SPARK_LOCAL_IP if you need to bind to another address\n",
      "Using Spark's default log4j profile: org/apache/spark/log4j-defaults.properties\n",
      "Setting default log level to \"WARN\".\n",
      "To adjust logging level use sc.setLogLevel(newLevel). For SparkR, use setLogLevel(newLevel).\n",
      "23/04/16 21:42:02 WARN NativeCodeLoader: Unable to load native-hadoop library for your platform... using builtin-java classes where applicable\n"
     ]
    }
   ],
   "source": [
    "from pyspark.sql import SparkSession\n",
    "spark = SparkSession.builder.appName(\"DataFrame\").getOrCreate()"
   ]
  },
  {
   "cell_type": "code",
   "execution_count": 57,
   "metadata": {},
   "outputs": [],
   "source": [
    "df_pyspark = spark.read.csv(\"../Data/Affairs.csv\", header=True, inferSchema=True)"
   ]
  },
  {
   "cell_type": "code",
   "execution_count": 58,
   "metadata": {},
   "outputs": [],
   "source": [
    "df_pyspark = df_pyspark.withColumnRenamed(\"children\", \"child\")"
   ]
  },
  {
   "cell_type": "code",
   "execution_count": 60,
   "metadata": {},
   "outputs": [
    {
     "name": "stderr",
     "output_type": "stream",
     "text": [
      "23/04/16 21:59:53 WARN CSVHeaderChecker: CSV header does not conform to the schema.\n",
      " Header: , affairs, gender, age, yearsmarried, children, religiousness, education, occupation, rating\n",
      " Schema: _c0, affairs, gender, age, yearsmarried, children, religiousness, education, occupation, rating\n",
      "Expected: _c0 but found: \n",
      "CSV file: file:///home/burakk/Data/Affairs.csv\n"
     ]
    },
    {
     "data": {
      "text/plain": [
       "[Row(_c0=4, affairs=0, gender='male', age=37.0, yearsmarried=10.0, child='no', religiousness=3, education=18, occupation=7, rating=4),\n",
       " Row(_c0=5, affairs=0, gender='female', age=27.0, yearsmarried=4.0, child='no', religiousness=4, education=14, occupation=6, rating=4),\n",
       " Row(_c0=11, affairs=0, gender='female', age=32.0, yearsmarried=15.0, child='yes', religiousness=1, education=12, occupation=1, rating=4)]"
      ]
     },
     "execution_count": 60,
     "metadata": {},
     "output_type": "execute_result"
    }
   ],
   "source": [
    "df_pyspark.head(3)"
   ]
  },
  {
   "cell_type": "code",
   "execution_count": 61,
   "metadata": {},
   "outputs": [
    {
     "name": "stdout",
     "output_type": "stream",
     "text": [
      "+---+-------+------+----+------------+-----+-------------+---------+----------+------+\n",
      "|_c0|affairs|gender| age|yearsmarried|child|religiousness|education|occupation|rating|\n",
      "+---+-------+------+----+------------+-----+-------------+---------+----------+------+\n",
      "|  4|      0|  male|37.0|        10.0|   no|            3|       18|         7|     4|\n",
      "|  5|      0|female|27.0|         4.0|   no|            4|       14|         6|     4|\n",
      "| 11|      0|female|32.0|        15.0|  yes|            1|       12|         1|     4|\n",
      "+---+-------+------+----+------------+-----+-------------+---------+----------+------+\n",
      "only showing top 3 rows\n",
      "\n"
     ]
    },
    {
     "name": "stderr",
     "output_type": "stream",
     "text": [
      "23/04/16 21:59:54 WARN CSVHeaderChecker: CSV header does not conform to the schema.\n",
      " Header: , affairs, gender, age, yearsmarried, children, religiousness, education, occupation, rating\n",
      " Schema: _c0, affairs, gender, age, yearsmarried, children, religiousness, education, occupation, rating\n",
      "Expected: _c0 but found: \n",
      "CSV file: file:///home/burakk/Data/Affairs.csv\n"
     ]
    }
   ],
   "source": [
    "df_pyspark.show(3)"
   ]
  },
  {
   "cell_type": "code",
   "execution_count": 62,
   "metadata": {},
   "outputs": [
    {
     "name": "stdout",
     "output_type": "stream",
     "text": [
      "+---+-------+------+----+------------+-----+-------------+---------+----------+------+\n",
      "|_c0|affairs|gender| age|yearsmarried|child|religiousness|education|occupation|rating|\n",
      "+---+-------+------+----+------------+-----+-------------+---------+----------+------+\n",
      "|  4|      0|  male|37.0|        10.0|   no|            3|       18|         7|     4|\n",
      "|  5|      0|female|27.0|         4.0|   no|            4|       14|         6|     4|\n",
      "| 11|      0|female|32.0|        15.0|  yes|            1|       12|         1|     4|\n",
      "| 29|      0|female|32.0|         1.5|   no|            2|       17|         5|     5|\n",
      "| 44|      0|female|22.0|        0.75|   no|            2|       12|         1|     3|\n",
      "| 45|      0|  male|57.0|        15.0|  yes|            2|       14|         4|     4|\n",
      "| 49|      0|  male|22.0|         1.5|   no|            4|       14|         4|     5|\n",
      "| 50|      0|  male|37.0|        15.0|  yes|            2|       20|         7|     2|\n",
      "| 55|      0|  male|27.0|         4.0|  yes|            4|       18|         6|     4|\n",
      "| 64|      0|  male|47.0|        15.0|  yes|            5|       17|         6|     4|\n",
      "| 80|      0|female|22.0|         1.5|   no|            2|       17|         5|     4|\n",
      "| 86|      0|female|27.0|         4.0|   no|            4|       14|         5|     4|\n",
      "| 93|      0|female|37.0|        15.0|  yes|            1|       17|         5|     5|\n",
      "|108|      0|female|37.0|        15.0|  yes|            2|       18|         4|     3|\n",
      "|114|      0|female|22.0|        0.75|   no|            3|       16|         5|     4|\n",
      "|115|      0|female|22.0|         1.5|   no|            2|       16|         5|     5|\n",
      "|116|      0|female|27.0|        10.0|  yes|            2|       14|         1|     5|\n",
      "|123|      0|female|22.0|         1.5|   no|            2|       16|         5|     5|\n",
      "|127|      0|female|22.0|         1.5|   no|            2|       16|         5|     5|\n",
      "|129|      0|female|27.0|        10.0|  yes|            4|       16|         5|     4|\n",
      "+---+-------+------+----+------------+-----+-------------+---------+----------+------+\n",
      "only showing top 20 rows\n",
      "\n"
     ]
    },
    {
     "name": "stderr",
     "output_type": "stream",
     "text": [
      "23/04/16 21:59:55 WARN CSVHeaderChecker: CSV header does not conform to the schema.\n",
      " Header: , affairs, gender, age, yearsmarried, children, religiousness, education, occupation, rating\n",
      " Schema: _c0, affairs, gender, age, yearsmarried, children, religiousness, education, occupation, rating\n",
      "Expected: _c0 but found: \n",
      "CSV file: file:///home/burakk/Data/Affairs.csv\n"
     ]
    }
   ],
   "source": [
    "df_pyspark.na.drop().show()"
   ]
  },
  {
   "cell_type": "code",
   "execution_count": 63,
   "metadata": {},
   "outputs": [
    {
     "name": "stdout",
     "output_type": "stream",
     "text": [
      "+---+-------+------+----+------------+-----+-------------+---------+----------+------+\n",
      "|_c0|affairs|gender| age|yearsmarried|child|religiousness|education|occupation|rating|\n",
      "+---+-------+------+----+------------+-----+-------------+---------+----------+------+\n",
      "|  4|      0|  male|37.0|        10.0|   no|            3|       18|         7|     4|\n",
      "|  5|      0|female|27.0|         4.0|   no|            4|       14|         6|     4|\n",
      "| 11|      0|female|32.0|        15.0|  yes|            1|       12|         1|     4|\n",
      "| 16|      0|  null|57.0|        15.0|  yes|            5|       18|         6|     5|\n",
      "| 23|      0|  male|22.0|        null|   no|            2|       17|         6|     3|\n",
      "| 29|      0|female|32.0|         1.5|   no|            2|       17|         5|     5|\n",
      "| 44|      0|female|22.0|        0.75|   no|            2|       12|         1|     3|\n",
      "| 45|      0|  male|57.0|        15.0|  yes|            2|       14|         4|     4|\n",
      "| 49|      0|  male|22.0|         1.5|   no|            4|       14|         4|     5|\n",
      "| 50|      0|  male|37.0|        15.0|  yes|            2|       20|         7|     2|\n",
      "| 55|      0|  male|27.0|         4.0|  yes|            4|       18|         6|     4|\n",
      "| 64|      0|  male|47.0|        15.0|  yes|            5|       17|         6|     4|\n",
      "| 80|      0|female|22.0|         1.5|   no|            2|       17|         5|     4|\n",
      "| 86|      0|female|27.0|         4.0|   no|            4|       14|         5|     4|\n",
      "| 93|      0|female|37.0|        15.0|  yes|            1|       17|         5|     5|\n",
      "|108|      0|female|37.0|        15.0|  yes|            2|       18|         4|     3|\n",
      "|114|      0|female|22.0|        0.75|   no|            3|       16|         5|     4|\n",
      "|115|      0|female|22.0|         1.5|   no|            2|       16|         5|     5|\n",
      "|116|      0|female|27.0|        10.0|  yes|            2|       14|         1|     5|\n",
      "|123|      0|female|22.0|         1.5|   no|            2|       16|         5|     5|\n",
      "+---+-------+------+----+------------+-----+-------------+---------+----------+------+\n",
      "only showing top 20 rows\n",
      "\n"
     ]
    },
    {
     "name": "stderr",
     "output_type": "stream",
     "text": [
      "23/04/16 21:59:55 WARN CSVHeaderChecker: CSV header does not conform to the schema.\n",
      " Header: , affairs, gender, age, yearsmarried, children, religiousness, education, occupation, rating\n",
      " Schema: _c0, affairs, gender, age, yearsmarried, children, religiousness, education, occupation, rating\n",
      "Expected: _c0 but found: \n",
      "CSV file: file:///home/burakk/Data/Affairs.csv\n"
     ]
    }
   ],
   "source": [
    "df_pyspark.na.drop(how=\"all\").show()"
   ]
  },
  {
   "cell_type": "code",
   "execution_count": 64,
   "metadata": {},
   "outputs": [
    {
     "name": "stdout",
     "output_type": "stream",
     "text": [
      "+---+-------+------+----+------------+-----+-------------+---------+----------+------+\n",
      "|_c0|affairs|gender| age|yearsmarried|child|religiousness|education|occupation|rating|\n",
      "+---+-------+------+----+------------+-----+-------------+---------+----------+------+\n",
      "|  4|      0|  male|37.0|        10.0|   no|            3|       18|         7|     4|\n",
      "|  5|      0|female|27.0|         4.0|   no|            4|       14|         6|     4|\n",
      "| 11|      0|female|32.0|        15.0|  yes|            1|       12|         1|     4|\n",
      "| 29|      0|female|32.0|         1.5|   no|            2|       17|         5|     5|\n",
      "| 44|      0|female|22.0|        0.75|   no|            2|       12|         1|     3|\n",
      "| 45|      0|  male|57.0|        15.0|  yes|            2|       14|         4|     4|\n",
      "| 49|      0|  male|22.0|         1.5|   no|            4|       14|         4|     5|\n",
      "| 50|      0|  male|37.0|        15.0|  yes|            2|       20|         7|     2|\n",
      "| 55|      0|  male|27.0|         4.0|  yes|            4|       18|         6|     4|\n",
      "| 64|      0|  male|47.0|        15.0|  yes|            5|       17|         6|     4|\n",
      "| 80|      0|female|22.0|         1.5|   no|            2|       17|         5|     4|\n",
      "| 86|      0|female|27.0|         4.0|   no|            4|       14|         5|     4|\n",
      "| 93|      0|female|37.0|        15.0|  yes|            1|       17|         5|     5|\n",
      "|108|      0|female|37.0|        15.0|  yes|            2|       18|         4|     3|\n",
      "|114|      0|female|22.0|        0.75|   no|            3|       16|         5|     4|\n",
      "|115|      0|female|22.0|         1.5|   no|            2|       16|         5|     5|\n",
      "|116|      0|female|27.0|        10.0|  yes|            2|       14|         1|     5|\n",
      "|123|      0|female|22.0|         1.5|   no|            2|       16|         5|     5|\n",
      "|127|      0|female|22.0|         1.5|   no|            2|       16|         5|     5|\n",
      "|129|      0|female|27.0|        10.0|  yes|            4|       16|         5|     4|\n",
      "+---+-------+------+----+------------+-----+-------------+---------+----------+------+\n",
      "only showing top 20 rows\n",
      "\n"
     ]
    },
    {
     "name": "stderr",
     "output_type": "stream",
     "text": [
      "23/04/16 21:59:55 WARN CSVHeaderChecker: CSV header does not conform to the schema.\n",
      " Header: , affairs, gender, age, yearsmarried, children, religiousness, education, occupation, rating\n",
      " Schema: _c0, affairs, gender, age, yearsmarried, children, religiousness, education, occupation, rating\n",
      "Expected: _c0 but found: \n",
      "CSV file: file:///home/burakk/Data/Affairs.csv\n"
     ]
    }
   ],
   "source": [
    "df_pyspark.na.drop(how=\"any\").show()"
   ]
  },
  {
   "cell_type": "code",
   "execution_count": null,
   "metadata": {},
   "outputs": [],
   "source": [
    "df_pyspark.aggregate({\"yearsmarried\": \"max\"}).show()"
   ]
  },
  {
   "attachments": {},
   "cell_type": "markdown",
   "metadata": {},
   "source": [
    "# Filter Operations"
   ]
  },
  {
   "cell_type": "code",
   "execution_count": 3,
   "metadata": {},
   "outputs": [
    {
     "name": "stderr",
     "output_type": "stream",
     "text": [
      "23/04/22 22:46:35 WARN Utils: Your hostname, AYGIR resolves to a loopback address: 127.0.1.1; using 192.168.213.86 instead (on interface eth0)\n",
      "23/04/22 22:46:35 WARN Utils: Set SPARK_LOCAL_IP if you need to bind to another address\n",
      "Using Spark's default log4j profile: org/apache/spark/log4j-defaults.properties\n",
      "Setting default log level to \"WARN\".\n",
      "To adjust logging level use sc.setLogLevel(newLevel). For SparkR, use setLogLevel(newLevel).\n",
      "23/04/22 22:46:36 WARN NativeCodeLoader: Unable to load native-hadoop library for your platform... using builtin-java classes where applicable\n"
     ]
    }
   ],
   "source": [
    "from pyspark.sql import SparkSession\n",
    "spark = SparkSession.builder.appName(\"DataFrame\").getOrCreate()"
   ]
  },
  {
   "cell_type": "code",
   "execution_count": 4,
   "metadata": {},
   "outputs": [
    {
     "data": {
      "text/html": [
       "\n",
       "            <div>\n",
       "                <p><b>SparkSession - in-memory</b></p>\n",
       "                \n",
       "        <div>\n",
       "            <p><b>SparkContext</b></p>\n",
       "\n",
       "            <p><a href=\"http://192.168.213.86:4040\">Spark UI</a></p>\n",
       "\n",
       "            <dl>\n",
       "              <dt>Version</dt>\n",
       "                <dd><code>v3.2.1</code></dd>\n",
       "              <dt>Master</dt>\n",
       "                <dd><code>local[*]</code></dd>\n",
       "              <dt>AppName</dt>\n",
       "                <dd><code>DataFrame</code></dd>\n",
       "            </dl>\n",
       "        </div>\n",
       "        \n",
       "            </div>\n",
       "        "
      ],
      "text/plain": [
       "<pyspark.sql.session.SparkSession at 0x7fc550377a90>"
      ]
     },
     "execution_count": 4,
     "metadata": {},
     "output_type": "execute_result"
    }
   ],
   "source": [
    "spark"
   ]
  },
  {
   "cell_type": "code",
   "execution_count": 8,
   "metadata": {},
   "outputs": [
    {
     "name": "stdout",
     "output_type": "stream",
     "text": [
      "+----+-------+------+----+------------+--------+-------------+---------+----------+------+\n",
      "|  id|affairs|gender| age|yearsmarried|children|religiousness|education|occupation|rating|\n",
      "+----+-------+------+----+------------+--------+-------------+---------+----------+------+\n",
      "|   4|      0|  male|37.0|        10.0|      no|            3|       18|         7|     4|\n",
      "|null|   null|  null|null|        null|    null|         null|     null|      null|  null|\n",
      "|  10|   null|  male|27.0|         4.0|      no|            4|       14|         6|     4|\n",
      "|  11|      0|female|32.0|        15.0|     yes|            1|       12|         1|     4|\n",
      "|  16|      0|  null|57.0|        15.0|     yes|            5|       18|         6|     5|\n",
      "|  20|   null|  null|22.0|         1.0|      no|            2|       17|         6|     3|\n",
      "|  30|   null|  null|null|         1.5|      no|            2|       17|         5|     5|\n",
      "|  44|      0|female|22.0|        0.75|      no|            2|       12|         1|     3|\n",
      "|  45|      0|  male|57.0|        15.0|     yes|            2|       14|         4|     4|\n",
      "|null|   null|  null|null|        null|    null|         null|     null|      null|  null|\n",
      "|  49|      0|  male|22.0|         1.5|      no|            4|       14|         4|     5|\n",
      "|  50|      0|  male|37.0|        15.0|     yes|            2|       20|         7|     2|\n",
      "|  55|      0|  male|27.0|         4.0|     yes|            4|       18|         6|     4|\n",
      "|  64|      0|  male|47.0|        15.0|     yes|            5|       17|         6|     4|\n",
      "|  80|      0|female|22.0|         1.5|      no|            2|       17|         5|     4|\n",
      "|  86|      0|female|27.0|         4.0|      no|            4|       14|         5|     4|\n",
      "|  93|      0|female|37.0|        15.0|     yes|            1|       17|         5|     5|\n",
      "| 108|      0|female|37.0|        15.0|     yes|            2|       18|         4|     3|\n",
      "| 114|      0|female|22.0|        0.75|      no|            3|       16|         5|     4|\n",
      "| 115|      0|female|22.0|         1.5|      no|            2|       16|         5|     5|\n",
      "+----+-------+------+----+------------+--------+-------------+---------+----------+------+\n",
      "only showing top 20 rows\n",
      "\n"
     ]
    }
   ],
   "source": [
    "df_pyspark = spark.read.csv(\"../Data/Affairs.csv\", header=True, inferSchema=True)\n",
    "df_pyspark.show()"
   ]
  },
  {
   "cell_type": "code",
   "execution_count": 14,
   "metadata": {},
   "outputs": [
    {
     "name": "stdout",
     "output_type": "stream",
     "text": [
      "+---+-------+------+----+------------+--------+-------------+---------+----------+------+\n",
      "| id|affairs|gender| age|yearsmarried|children|religiousness|education|occupation|rating|\n",
      "+---+-------+------+----+------------+--------+-------------+---------+----------+------+\n",
      "|  4|      0|  male|37.0|        10.0|      no|            3|       18|         7|     4|\n",
      "| 16|      0|  null|57.0|        15.0|     yes|            5|       18|         6|     5|\n",
      "| 20|   null|  null|22.0|         1.0|      no|            2|       17|         6|     3|\n",
      "| 30|   null|  null|null|         1.5|      no|            2|       17|         5|     5|\n",
      "| 50|      0|  male|37.0|        15.0|     yes|            2|       20|         7|     2|\n",
      "| 55|      0|  male|27.0|         4.0|     yes|            4|       18|         6|     4|\n",
      "| 64|      0|  male|47.0|        15.0|     yes|            5|       17|         6|     4|\n",
      "| 80|      0|female|22.0|         1.5|      no|            2|       17|         5|     4|\n",
      "| 93|      0|female|37.0|        15.0|     yes|            1|       17|         5|     5|\n",
      "|108|      0|female|37.0|        15.0|     yes|            2|       18|         4|     3|\n",
      "|114|      0|female|22.0|        0.75|      no|            3|       16|         5|     4|\n",
      "|115|      0|female|22.0|         1.5|      no|            2|       16|         5|     5|\n",
      "|123|      0|female|22.0|         1.5|      no|            2|       16|         5|     5|\n",
      "|127|      0|female|22.0|         1.5|      no|            2|       16|         5|     5|\n",
      "|129|      0|female|27.0|        10.0|     yes|            4|       16|         5|     4|\n",
      "|137|      0|  male|37.0|         4.0|     yes|            2|       20|         6|     4|\n",
      "|139|      0|female|22.0|         1.5|      no|            2|       18|         5|     5|\n",
      "|147|      0|female|27.0|         7.0|      no|            4|       16|         1|     5|\n",
      "|151|      0|  male|42.0|        15.0|     yes|            5|       20|         6|     4|\n",
      "|153|      0|  male|27.0|         4.0|     yes|            3|       16|         5|     5|\n",
      "+---+-------+------+----+------------+--------+-------------+---------+----------+------+\n",
      "only showing top 20 rows\n",
      "\n"
     ]
    }
   ],
   "source": [
    "# PySpark code speaks for itself!\n",
    "df_pyspark.filter(\"education >= 15\").show()"
   ]
  },
  {
   "cell_type": "code",
   "execution_count": 15,
   "metadata": {},
   "outputs": [
    {
     "name": "stdout",
     "output_type": "stream",
     "text": [
      "+----+------------+\n",
      "| age|yearsmarried|\n",
      "+----+------------+\n",
      "|37.0|        10.0|\n",
      "|57.0|        15.0|\n",
      "|22.0|         1.0|\n",
      "|null|         1.5|\n",
      "|37.0|        15.0|\n",
      "|27.0|         4.0|\n",
      "|47.0|        15.0|\n",
      "|22.0|         1.5|\n",
      "|37.0|        15.0|\n",
      "|37.0|        15.0|\n",
      "|22.0|        0.75|\n",
      "|22.0|         1.5|\n",
      "|22.0|         1.5|\n",
      "|22.0|         1.5|\n",
      "|27.0|        10.0|\n",
      "|37.0|         4.0|\n",
      "|22.0|         1.5|\n",
      "|27.0|         7.0|\n",
      "|42.0|        15.0|\n",
      "|27.0|         4.0|\n",
      "+----+------------+\n",
      "only showing top 20 rows\n",
      "\n"
     ]
    }
   ],
   "source": [
    "df_pyspark.filter(\"education >= 15\").select(\"age\", \"yearsmarried\").show()"
   ]
  },
  {
   "cell_type": "code",
   "execution_count": 17,
   "metadata": {},
   "outputs": [
    {
     "name": "stdout",
     "output_type": "stream",
     "text": [
      "+---+-------+------+----+------------+--------+-------------+---------+----------+------+\n",
      "| id|affairs|gender| age|yearsmarried|children|religiousness|education|occupation|rating|\n",
      "+---+-------+------+----+------------+--------+-------------+---------+----------+------+\n",
      "|  4|      0|  male|37.0|        10.0|      no|            3|       18|         7|     4|\n",
      "| 16|      0|  null|57.0|        15.0|     yes|            5|       18|         6|     5|\n",
      "| 20|   null|  null|22.0|         1.0|      no|            2|       17|         6|     3|\n",
      "| 30|   null|  null|null|         1.5|      no|            2|       17|         5|     5|\n",
      "| 50|      0|  male|37.0|        15.0|     yes|            2|       20|         7|     2|\n",
      "| 55|      0|  male|27.0|         4.0|     yes|            4|       18|         6|     4|\n",
      "| 64|      0|  male|47.0|        15.0|     yes|            5|       17|         6|     4|\n",
      "| 80|      0|female|22.0|         1.5|      no|            2|       17|         5|     4|\n",
      "| 93|      0|female|37.0|        15.0|     yes|            1|       17|         5|     5|\n",
      "|108|      0|female|37.0|        15.0|     yes|            2|       18|         4|     3|\n",
      "|114|      0|female|22.0|        0.75|      no|            3|       16|         5|     4|\n",
      "|115|      0|female|22.0|         1.5|      no|            2|       16|         5|     5|\n",
      "|123|      0|female|22.0|         1.5|      no|            2|       16|         5|     5|\n",
      "|127|      0|female|22.0|         1.5|      no|            2|       16|         5|     5|\n",
      "|129|      0|female|27.0|        10.0|     yes|            4|       16|         5|     4|\n",
      "|137|      0|  male|37.0|         4.0|     yes|            2|       20|         6|     4|\n",
      "|139|      0|female|22.0|         1.5|      no|            2|       18|         5|     5|\n",
      "|147|      0|female|27.0|         7.0|      no|            4|       16|         1|     5|\n",
      "|151|      0|  male|42.0|        15.0|     yes|            5|       20|         6|     4|\n",
      "|153|      0|  male|27.0|         4.0|     yes|            3|       16|         5|     5|\n",
      "+---+-------+------+----+------------+--------+-------------+---------+----------+------+\n",
      "only showing top 20 rows\n",
      "\n"
     ]
    }
   ],
   "source": [
    "df_pyspark.filter(df_pyspark[\"education\"] >= 15).show()"
   ]
  },
  {
   "cell_type": "code",
   "execution_count": 22,
   "metadata": {},
   "outputs": [
    {
     "name": "stdout",
     "output_type": "stream",
     "text": [
      "+---+-------+------+----+------------+--------+-------------+---------+----------+------+\n",
      "| id|affairs|gender| age|yearsmarried|children|religiousness|education|occupation|rating|\n",
      "+---+-------+------+----+------------+--------+-------------+---------+----------+------+\n",
      "| 20|   null|  null|22.0|         1.0|      no|            2|       17|         6|     3|\n",
      "| 55|      0|  male|27.0|         4.0|     yes|            4|       18|         6|     4|\n",
      "| 80|      0|female|22.0|         1.5|      no|            2|       17|         5|     4|\n",
      "|114|      0|female|22.0|        0.75|      no|            3|       16|         5|     4|\n",
      "|115|      0|female|22.0|         1.5|      no|            2|       16|         5|     5|\n",
      "|123|      0|female|22.0|         1.5|      no|            2|       16|         5|     5|\n",
      "|127|      0|female|22.0|         1.5|      no|            2|       16|         5|     5|\n",
      "|129|      0|female|27.0|        10.0|     yes|            4|       16|         5|     4|\n",
      "|139|      0|female|22.0|         1.5|      no|            2|       18|         5|     5|\n",
      "|147|      0|female|27.0|         7.0|      no|            4|       16|         1|     5|\n",
      "|153|      0|  male|27.0|         4.0|     yes|            3|       16|         5|     5|\n",
      "|155|      0|female|27.0|         4.0|     yes|            3|       17|         5|     4|\n",
      "|163|      0|female|22.0|         1.5|      no|            3|       16|         5|     5|\n",
      "|165|      0|  male|27.0|       0.417|      no|            4|       17|         6|     4|\n",
      "|172|      0|female|22.0|         1.5|      no|            4|       16|         5|     3|\n",
      "|187|      0|female|22.0|         4.0|      no|            4|       17|         5|     5|\n",
      "|194|      0|female|22.0|        0.75|      no|            3|       16|         1|     5|\n",
      "|224|      0|female|27.0|         4.0|     yes|            2|       18|         6|     1|\n",
      "|228|      0|  male|22.0|         4.0|      no|            3|       16|         5|     5|\n",
      "|239|      0|female|27.0|         7.0|     yes|            4|       18|         6|     5|\n",
      "+---+-------+------+----+------------+--------+-------------+---------+----------+------+\n",
      "only showing top 20 rows\n",
      "\n"
     ]
    }
   ],
   "source": [
    "# Adding AND operator\n",
    "df_pyspark.filter((df_pyspark[\"education\"] >= 15) & (df_pyspark[\"age\"] <= \"27\" )).show()"
   ]
  },
  {
   "cell_type": "code",
   "execution_count": 23,
   "metadata": {},
   "outputs": [
    {
     "name": "stdout",
     "output_type": "stream",
     "text": [
      "+---+-------+------+----+------------+--------+-------------+---------+----------+------+\n",
      "| id|affairs|gender| age|yearsmarried|children|religiousness|education|occupation|rating|\n",
      "+---+-------+------+----+------------+--------+-------------+---------+----------+------+\n",
      "|  4|      0|  male|37.0|        10.0|      no|            3|       18|         7|     4|\n",
      "| 10|   null|  male|27.0|         4.0|      no|            4|       14|         6|     4|\n",
      "| 16|      0|  null|57.0|        15.0|     yes|            5|       18|         6|     5|\n",
      "| 20|   null|  null|22.0|         1.0|      no|            2|       17|         6|     3|\n",
      "| 30|   null|  null|null|         1.5|      no|            2|       17|         5|     5|\n",
      "| 44|      0|female|22.0|        0.75|      no|            2|       12|         1|     3|\n",
      "| 49|      0|  male|22.0|         1.5|      no|            4|       14|         4|     5|\n",
      "| 50|      0|  male|37.0|        15.0|     yes|            2|       20|         7|     2|\n",
      "| 55|      0|  male|27.0|         4.0|     yes|            4|       18|         6|     4|\n",
      "| 64|      0|  male|47.0|        15.0|     yes|            5|       17|         6|     4|\n",
      "| 80|      0|female|22.0|         1.5|      no|            2|       17|         5|     4|\n",
      "| 86|      0|female|27.0|         4.0|      no|            4|       14|         5|     4|\n",
      "| 93|      0|female|37.0|        15.0|     yes|            1|       17|         5|     5|\n",
      "|108|      0|female|37.0|        15.0|     yes|            2|       18|         4|     3|\n",
      "|114|      0|female|22.0|        0.75|      no|            3|       16|         5|     4|\n",
      "|115|      0|female|22.0|         1.5|      no|            2|       16|         5|     5|\n",
      "|116|      0|female|27.0|        10.0|     yes|            2|       14|         1|     5|\n",
      "|123|      0|female|22.0|         1.5|      no|            2|       16|         5|     5|\n",
      "|127|      0|female|22.0|         1.5|      no|            2|       16|         5|     5|\n",
      "|129|      0|female|27.0|        10.0|     yes|            4|       16|         5|     4|\n",
      "+---+-------+------+----+------------+--------+-------------+---------+----------+------+\n",
      "only showing top 20 rows\n",
      "\n"
     ]
    }
   ],
   "source": [
    "# Adding OR operator\n",
    "df_pyspark.filter((df_pyspark[\"education\"] >= 15) | (df_pyspark[\"age\"] <= \"27\")).show()"
   ]
  },
  {
   "cell_type": "code",
   "execution_count": null,
   "metadata": {},
   "outputs": [],
   "source": []
  }
 ],
 "metadata": {
  "kernelspec": {
   "display_name": "bigd01py37",
   "language": "python",
   "name": "python3"
  },
  "language_info": {
   "codemirror_mode": {
    "name": "ipython",
    "version": 3
   },
   "file_extension": ".py",
   "mimetype": "text/x-python",
   "name": "python",
   "nbconvert_exporter": "python",
   "pygments_lexer": "ipython3",
   "version": "3.7.16"
  },
  "orig_nbformat": 4
 },
 "nbformat": 4,
 "nbformat_minor": 2
}
